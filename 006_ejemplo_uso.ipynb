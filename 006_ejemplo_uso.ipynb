{
 "cells": [
  {
   "cell_type": "markdown",
   "id": "1531804b-decd-4995-a705-4659df732415",
   "metadata": {},
   "source": [
    "## Procesamiento final de los resultados\n",
    "\n"
   ]
  },
  {
   "cell_type": "code",
   "execution_count": 1,
   "id": "5eb50bba-0c40-44c2-a1c0-50dcafcd4426",
   "metadata": {},
   "outputs": [],
   "source": [
    "import os\n",
    "import json\n",
    "import random\n",
    "import pandas as pd\n",
    "import ast \n",
    "import re\n",
    "import locale\n",
    "from collections import Counter\n",
    "from datetime import datetime"
   ]
  },
  {
   "cell_type": "markdown",
   "id": "4cdb8eff-6825-407b-8694-55cd0ceda99d",
   "metadata": {},
   "source": [
    "Continua de: 005_ejemplo_uso de la carpeta colab.\n"
   ]
  },
  {
   "cell_type": "code",
   "execution_count": 2,
   "id": "5ecb62d2-eab7-4805-a1ab-b9aa14b2559c",
   "metadata": {},
   "outputs": [
    {
     "data": {
      "text/plain": [
       "'es_ES.UTF-8'"
      ]
     },
     "execution_count": 2,
     "metadata": {},
     "output_type": "execute_result"
    }
   ],
   "source": [
    "#Establecer el locale a español\n",
    "locale.setlocale(locale.LC_TIME, 'es_ES.UTF-8')"
   ]
  },
  {
   "cell_type": "code",
   "execution_count": 3,
   "id": "34e6eb24-e7d5-4527-881a-accdede0adb3",
   "metadata": {},
   "outputs": [],
   "source": [
    "csv_path = \"Data/dataset_con_resultados.csv\"\n",
    "df = pd.read_csv(csv_path)\n",
    "\n",
    "# Función para convertir JSON con comillas simples a diccionario\n",
    "def convertir_json_a_diccionario(json_str):\n",
    "    try:\n",
    "        return ast.literal_eval(json_str)\n",
    "    except (ValueError, SyntaxError) as e:\n",
    "        print(f\"Error al convertir JSON: {e}\")\n",
    "        return None\n",
    "\n",
    "# Aplicar la función a la columna 'json'\n",
    "df['json'] = df['json'].apply(convertir_json_a_diccionario)\n",
    "df['reglas'] = df['reglas'].apply(convertir_json_a_diccionario)\n",
    "\n",
    "\n",
    "# Función para convertir la cadena de lista a una lista real\n",
    "def convertir_a_lista(cadena):\n",
    "    try:\n",
    "        lista = ast.literal_eval(cadena)\n",
    "        if isinstance(lista, list):\n",
    "            return lista\n",
    "    except (SyntaxError, ValueError):\n",
    "        pass  # En caso de error, simplemente retorna una lista vacía\n",
    "    return []\n",
    "\n",
    "\n",
    "df['texto'] = df['texto'].apply(convertir_a_lista)\n"
   ]
  },
  {
   "cell_type": "markdown",
   "id": "cede6aa8-9b76-462b-b054-b904349c67e5",
   "metadata": {},
   "source": [
    "Esta parte del procesamiento de los resultados la tenemos que hacer en local, debido a que Google Colab da problemas con la configuración 'es_ES.UTF-8', que es necesaria en este paso.\n",
    "\n",
    "\n"
   ]
  },
  {
   "cell_type": "code",
   "execution_count": 4,
   "id": "5a0c382c-fa9a-4ca7-94d8-9857e0499182",
   "metadata": {},
   "outputs": [],
   "source": [
    "\n",
    "# Función para extraer el valor numérico de un string y mantener coma como separador decimal\n",
    "def extraer_valor_numerico(value):\n",
    "    if isinstance(value, (int, float)):\n",
    "        return f\"{value}\".replace('.', ',')\n",
    "    elif isinstance(value, str):\n",
    "        match = re.search(r'[-+]?\\d*[.,]?\\d+', value)\n",
    "        if match:\n",
    "            return match.group().replace('.', ',')\n",
    "    return value\n",
    "\n",
    "# Función para convertir fechas a un formato uniforme\n",
    "def convertir_fecha(fecha_str):\n",
    "    formatos_fecha = [\n",
    "        '%d/%m/%Y', '%d.%m.%Y', '%d-%m-%Y', '%d de %B de %Y', '%d-%B-%Y',\n",
    "        '%d de %b de %Y', '%d %b %Y', '%d/%m/%y', '%d-%m-%y', '%d %B, %Y', '%d %b, %Y'\n",
    "    ]\n",
    "    for formato in formatos_fecha:\n",
    "        try:\n",
    "            fecha_obj = datetime.strptime(fecha_str, formato)\n",
    "            return fecha_obj.strftime('%d.%m.%Y')\n",
    "        except ValueError:\n",
    "            continue\n",
    "    return fecha_str  # Retorna el string original si no coincide con ningún formato\n",
    "\n",
    "# Función para transformar cada fila\n",
    "def transformar_json_comprobacion(json_str):\n",
    "    # Convertir el string del diccionario a un diccionario real\n",
    "    diccionario = ast.literal_eval(json_str)\n",
    "    \n",
    "    # Procesar las claves específicas primero\n",
    "    claves_especificas = ['importe_factura', 'consumo_periodo', 'potencia_contratada']\n",
    "    for clave in claves_especificas:\n",
    "        if clave in diccionario and diccionario[clave]:\n",
    "            diccionario[clave][0] = extraer_valor_numerico(diccionario[clave][0])\n",
    "    \n",
    "    # Convertir fechas a formato uniforme\n",
    "    claves_fechas = ['inicio_periodo', 'fin_periodo', 'fecha_cargo']\n",
    "    for clave in claves_fechas:\n",
    "        if clave in diccionario and diccionario[clave]:\n",
    "            diccionario[clave][0] = convertir_fecha(diccionario[clave][0])\n",
    "    \n",
    "    # Iterar sobre los items del diccionario\n",
    "    for key, value in diccionario.items():\n",
    "        if key == 'consumo_periodo':\n",
    "            diccionario[key] = int(float(value[0].replace(',', '.'))) if value else 0\n",
    "        else:\n",
    "            diccionario[key] = str(value[0]) if isinstance(value, list) and value else \"\"\n",
    "    \n",
    "    return diccionario\n",
    "\n",
    "# Aplicar la función a cada fila del DataFrame\n",
    "df['resultados'] = df['json_comprobacion'].apply(transformar_json_comprobacion)"
   ]
  },
  {
   "cell_type": "code",
   "execution_count": 5,
   "id": "43cc4073-c757-407b-98ab-098f2256daf7",
   "metadata": {},
   "outputs": [],
   "source": [
    "# Función para modificar los valores en los diccionarios\n",
    "def modificar_direcciones(diccionario):\n",
    "    if 'calle_cliente' in diccionario:\n",
    "        diccionario['calle_cliente'] = diccionario['calle_cliente'].replace('S/ N', 'S/N')\n",
    "    if 'dirección_comercializadora' in diccionario:\n",
    "        diccionario['dirección_comercializadora'] = diccionario['dirección_comercializadora'].replace('S/ N', 'S/N')\n",
    "    return diccionario\n",
    "\n",
    "# Aplicar la función a la columna 'resultados'\n",
    "df['resultados'] = df['resultados'].apply(modificar_direcciones)"
   ]
  },
  {
   "cell_type": "code",
   "execution_count": 6,
   "id": "306108e2-c49e-4de5-b2ee-b1700eb4b18a",
   "metadata": {},
   "outputs": [],
   "source": [
    "# Función para eliminar espacios innecesarios en nombre_comercializadora\n",
    "def modificar_nombre_comercializadora(diccionario):\n",
    "    if 'nombre_comercializadora' in diccionario:\n",
    "        diccionario['nombre_comercializadora'] = re.sub(r'\\s*([./-])\\s*', r'\\1', diccionario['nombre_comercializadora'])\n",
    "    return diccionario\n",
    "\n",
    "# Aplicar las funciones a la columna 'resultados'\n",
    "df['resultados'] = df['resultados'].apply(modificar_nombre_comercializadora)"
   ]
  },
  {
   "cell_type": "markdown",
   "id": "7ec4c4e3-fd58-40fc-a12c-020a11805163",
   "metadata": {},
   "source": [
    "Las funciones anteriores se encargan de que los valores del diccionario tengan el formato adecuado."
   ]
  },
  {
   "cell_type": "code",
   "execution_count": 7,
   "id": "a49c8bb2-22c1-4098-bc00-2eb5a025e7de",
   "metadata": {},
   "outputs": [
    {
     "data": {
      "text/html": [
       "<div>\n",
       "<style scoped>\n",
       "    .dataframe tbody tr th:only-of-type {\n",
       "        vertical-align: middle;\n",
       "    }\n",
       "\n",
       "    .dataframe tbody tr th {\n",
       "        vertical-align: top;\n",
       "    }\n",
       "\n",
       "    .dataframe thead th {\n",
       "        text-align: right;\n",
       "    }\n",
       "</style>\n",
       "<table border=\"1\" class=\"dataframe\">\n",
       "  <thead>\n",
       "    <tr style=\"text-align: right;\">\n",
       "      <th></th>\n",
       "      <th>id</th>\n",
       "      <th>texto</th>\n",
       "      <th>predict</th>\n",
       "      <th>json</th>\n",
       "      <th>json_comprobacion</th>\n",
       "      <th>reglas</th>\n",
       "      <th>resultados</th>\n",
       "    </tr>\n",
       "  </thead>\n",
       "  <tbody>\n",
       "    <tr>\n",
       "      <th>0</th>\n",
       "      <td>factura_0</td>\n",
       "      <td>[DATOS, DE, LA, FACTURA, Nº, factura, :, SV504...</td>\n",
       "      <td>['O', 'O', 'O', 'O', 'O', 'O', 'O', 'O', 'O', ...</td>\n",
       "      <td>{'nombre_cliente': 'Conrado Daniel Iglesias', ...</td>\n",
       "      <td>{'nombre_cliente': ['Conrado Daniel Iglesias']...</td>\n",
       "      <td>{'nombre_cliente': [], 'dni_cliente': ['736351...</td>\n",
       "      <td>{'nombre_cliente': 'Conrado Daniel Iglesias', ...</td>\n",
       "    </tr>\n",
       "    <tr>\n",
       "      <th>1</th>\n",
       "      <td>factura_2</td>\n",
       "      <td>[DATOS, DE, LA, FACTURA, Nº, factura, :, H4623...</td>\n",
       "      <td>['O', 'O', 'O', 'O', 'O', 'O', 'O', 'O', 'O', ...</td>\n",
       "      <td>{'nombre_cliente': 'BENEDICTA GALLEGOS AGUILAR...</td>\n",
       "      <td>{'nombre_cliente': ['BENEDICTA GALLEGOS AGUILA...</td>\n",
       "      <td>{'nombre_cliente': [], 'dni_cliente': ['744343...</td>\n",
       "      <td>{'nombre_cliente': 'BENEDICTA GALLEGOS AGUILAR...</td>\n",
       "    </tr>\n",
       "    <tr>\n",
       "      <th>2</th>\n",
       "      <td>factura_3</td>\n",
       "      <td>[DATOS, DE, LA, FACTURA, Nº, factura, :, SF395...</td>\n",
       "      <td>['O', 'O', 'O', 'O', 'O', 'O', 'O', 'O', 'O', ...</td>\n",
       "      <td>{'nombre_cliente': 'Belinda Zetina Mijares', '...</td>\n",
       "      <td>{'nombre_cliente': ['Belinda Zetina Mijares'],...</td>\n",
       "      <td>{'nombre_cliente': [], 'dni_cliente': ['899016...</td>\n",
       "      <td>{'nombre_cliente': 'Belinda Zetina Mijares', '...</td>\n",
       "    </tr>\n",
       "    <tr>\n",
       "      <th>3</th>\n",
       "      <td>factura_4</td>\n",
       "      <td>[DATOS, DE, LA, FACTURA, IMPORTE, FACTURA, :, ...</td>\n",
       "      <td>['O', 'O', 'O', 'O', 'O', 'O', 'O', 'O', 'O', ...</td>\n",
       "      <td>{'nombre_cliente': 'PANTALEÓN VELASCO DE ALBA'...</td>\n",
       "      <td>{'nombre_cliente': ['PANTALEÓN VELASCO DE ALBA...</td>\n",
       "      <td>{'nombre_cliente': [], 'dni_cliente': ['431653...</td>\n",
       "      <td>{'nombre_cliente': 'PANTALEÓN VELASCO DE ALBA'...</td>\n",
       "    </tr>\n",
       "    <tr>\n",
       "      <th>4</th>\n",
       "      <td>factura_5</td>\n",
       "      <td>[L, .., ., u, ., ., n, ..e, ., ., s, ., ., ., ...</td>\n",
       "      <td>['O', 'O', 'O', 'O', 'O', 'O', 'O', 'O', 'O', ...</td>\n",
       "      <td>{'nombre_cliente': 'SATURNINO MALTÉS NARANJO',...</td>\n",
       "      <td>{'nombre_cliente': ['SATURNINO MALTÉS NARANJO'...</td>\n",
       "      <td>{'nombre_cliente': [], 'dni_cliente': ['137141...</td>\n",
       "      <td>{'nombre_cliente': 'SATURNINO MALTÉS NARANJO',...</td>\n",
       "    </tr>\n",
       "    <tr>\n",
       "      <th>...</th>\n",
       "      <td>...</td>\n",
       "      <td>...</td>\n",
       "      <td>...</td>\n",
       "      <td>...</td>\n",
       "      <td>...</td>\n",
       "      <td>...</td>\n",
       "      <td>...</td>\n",
       "    </tr>\n",
       "    <tr>\n",
       "      <th>909</th>\n",
       "      <td>factura_994</td>\n",
       "      <td>[Página, 1, /, 2, VIRGIN, ELECTRIC, SLU, CIF, ...</td>\n",
       "      <td>['O', 'O', 'O', 'O', 'O', 'B-NOMC', 'B-NOMC', ...</td>\n",
       "      <td>{'nombre_cliente': 'PETRONIO RAMÍREZ COLLADO',...</td>\n",
       "      <td>{'nombre_cliente': ['PETRONIO RAMÍREZ COLLADO'...</td>\n",
       "      <td>{'nombre_cliente': [], 'dni_cliente': ['267273...</td>\n",
       "      <td>{'nombre_cliente': 'PETRONIO RAMÍREZ COLLADO',...</td>\n",
       "    </tr>\n",
       "    <tr>\n",
       "      <th>910</th>\n",
       "      <td>factura_995</td>\n",
       "      <td>[Página, 1, /, 2, ELECTRICA, NTRA, SRA, DE, GR...</td>\n",
       "      <td>['O', 'O', 'O', 'O', 'O', 'B-NOMC', 'B-NOMC', ...</td>\n",
       "      <td>{'nombre_cliente': 'SULPICIO ESCOVAR FONSECA',...</td>\n",
       "      <td>{'nombre_cliente': ['SULPICIO ESCOVAR FONSECA'...</td>\n",
       "      <td>{'nombre_cliente': [], 'dni_cliente': ['209801...</td>\n",
       "      <td>{'nombre_cliente': 'SULPICIO ESCOVAR FONSECA',...</td>\n",
       "    </tr>\n",
       "    <tr>\n",
       "      <th>911</th>\n",
       "      <td>factura_996</td>\n",
       "      <td>[DATOS, DE, LA, FACTURA, Nº, factura, :, U2093...</td>\n",
       "      <td>['O', 'O', 'O', 'O', 'O', 'O', 'O', 'O', 'O', ...</td>\n",
       "      <td>{'nombre_cliente': 'Petrona Uribe Naranjo', 'd...</td>\n",
       "      <td>{'nombre_cliente': ['Petrona Uribe Naranjo'], ...</td>\n",
       "      <td>{'nombre_cliente': [], 'dni_cliente': ['269342...</td>\n",
       "      <td>{'nombre_cliente': 'Petrona Uribe Naranjo', 'd...</td>\n",
       "    </tr>\n",
       "    <tr>\n",
       "      <th>912</th>\n",
       "      <td>factura_997</td>\n",
       "      <td>[DATOS, DE, LA, FACTURA, IMPORTE, FACTURA, :, ...</td>\n",
       "      <td>['O', 'O', 'O', 'O', 'O', 'O', 'O', 'O', 'O', ...</td>\n",
       "      <td>{'nombre_cliente': 'CELESTINA TREMINIO VALLEJO...</td>\n",
       "      <td>{'nombre_cliente': ['CELESTINA TREMINIO VALLEJ...</td>\n",
       "      <td>{'nombre_cliente': [], 'dni_cliente': ['190202...</td>\n",
       "      <td>{'nombre_cliente': 'CELESTINA TREMINIO VALLEJO...</td>\n",
       "    </tr>\n",
       "    <tr>\n",
       "      <th>913</th>\n",
       "      <td>factura_999</td>\n",
       "      <td>[DATOS, DE, LA, FACTURA, Nº, factura, :, BD976...</td>\n",
       "      <td>['O', 'O', 'O', 'O', 'O', 'O', 'O', 'O', 'O', ...</td>\n",
       "      <td>{'nombre_cliente': 'KIRA GAITÁN QUESADA', 'dni...</td>\n",
       "      <td>{'nombre_cliente': ['KIRA GAITÁN QUESADA'], 'd...</td>\n",
       "      <td>{'nombre_cliente': [], 'dni_cliente': ['324337...</td>\n",
       "      <td>{'nombre_cliente': 'KIRA GAITÁN QUESADA', 'dni...</td>\n",
       "    </tr>\n",
       "  </tbody>\n",
       "</table>\n",
       "<p>914 rows × 7 columns</p>\n",
       "</div>"
      ],
      "text/plain": [
       "              id                                              texto  \\\n",
       "0      factura_0  [DATOS, DE, LA, FACTURA, Nº, factura, :, SV504...   \n",
       "1      factura_2  [DATOS, DE, LA, FACTURA, Nº, factura, :, H4623...   \n",
       "2      factura_3  [DATOS, DE, LA, FACTURA, Nº, factura, :, SF395...   \n",
       "3      factura_4  [DATOS, DE, LA, FACTURA, IMPORTE, FACTURA, :, ...   \n",
       "4      factura_5  [L, .., ., u, ., ., n, ..e, ., ., s, ., ., ., ...   \n",
       "..           ...                                                ...   \n",
       "909  factura_994  [Página, 1, /, 2, VIRGIN, ELECTRIC, SLU, CIF, ...   \n",
       "910  factura_995  [Página, 1, /, 2, ELECTRICA, NTRA, SRA, DE, GR...   \n",
       "911  factura_996  [DATOS, DE, LA, FACTURA, Nº, factura, :, U2093...   \n",
       "912  factura_997  [DATOS, DE, LA, FACTURA, IMPORTE, FACTURA, :, ...   \n",
       "913  factura_999  [DATOS, DE, LA, FACTURA, Nº, factura, :, BD976...   \n",
       "\n",
       "                                               predict  \\\n",
       "0    ['O', 'O', 'O', 'O', 'O', 'O', 'O', 'O', 'O', ...   \n",
       "1    ['O', 'O', 'O', 'O', 'O', 'O', 'O', 'O', 'O', ...   \n",
       "2    ['O', 'O', 'O', 'O', 'O', 'O', 'O', 'O', 'O', ...   \n",
       "3    ['O', 'O', 'O', 'O', 'O', 'O', 'O', 'O', 'O', ...   \n",
       "4    ['O', 'O', 'O', 'O', 'O', 'O', 'O', 'O', 'O', ...   \n",
       "..                                                 ...   \n",
       "909  ['O', 'O', 'O', 'O', 'O', 'B-NOMC', 'B-NOMC', ...   \n",
       "910  ['O', 'O', 'O', 'O', 'O', 'B-NOMC', 'B-NOMC', ...   \n",
       "911  ['O', 'O', 'O', 'O', 'O', 'O', 'O', 'O', 'O', ...   \n",
       "912  ['O', 'O', 'O', 'O', 'O', 'O', 'O', 'O', 'O', ...   \n",
       "913  ['O', 'O', 'O', 'O', 'O', 'O', 'O', 'O', 'O', ...   \n",
       "\n",
       "                                                  json  \\\n",
       "0    {'nombre_cliente': 'Conrado Daniel Iglesias', ...   \n",
       "1    {'nombre_cliente': 'BENEDICTA GALLEGOS AGUILAR...   \n",
       "2    {'nombre_cliente': 'Belinda Zetina Mijares', '...   \n",
       "3    {'nombre_cliente': 'PANTALEÓN VELASCO DE ALBA'...   \n",
       "4    {'nombre_cliente': 'SATURNINO MALTÉS NARANJO',...   \n",
       "..                                                 ...   \n",
       "909  {'nombre_cliente': 'PETRONIO RAMÍREZ COLLADO',...   \n",
       "910  {'nombre_cliente': 'SULPICIO ESCOVAR FONSECA',...   \n",
       "911  {'nombre_cliente': 'Petrona Uribe Naranjo', 'd...   \n",
       "912  {'nombre_cliente': 'CELESTINA TREMINIO VALLEJO...   \n",
       "913  {'nombre_cliente': 'KIRA GAITÁN QUESADA', 'dni...   \n",
       "\n",
       "                                     json_comprobacion  \\\n",
       "0    {'nombre_cliente': ['Conrado Daniel Iglesias']...   \n",
       "1    {'nombre_cliente': ['BENEDICTA GALLEGOS AGUILA...   \n",
       "2    {'nombre_cliente': ['Belinda Zetina Mijares'],...   \n",
       "3    {'nombre_cliente': ['PANTALEÓN VELASCO DE ALBA...   \n",
       "4    {'nombre_cliente': ['SATURNINO MALTÉS NARANJO'...   \n",
       "..                                                 ...   \n",
       "909  {'nombre_cliente': ['PETRONIO RAMÍREZ COLLADO'...   \n",
       "910  {'nombre_cliente': ['SULPICIO ESCOVAR FONSECA'...   \n",
       "911  {'nombre_cliente': ['Petrona Uribe Naranjo'], ...   \n",
       "912  {'nombre_cliente': ['CELESTINA TREMINIO VALLEJ...   \n",
       "913  {'nombre_cliente': ['KIRA GAITÁN QUESADA'], 'd...   \n",
       "\n",
       "                                                reglas  \\\n",
       "0    {'nombre_cliente': [], 'dni_cliente': ['736351...   \n",
       "1    {'nombre_cliente': [], 'dni_cliente': ['744343...   \n",
       "2    {'nombre_cliente': [], 'dni_cliente': ['899016...   \n",
       "3    {'nombre_cliente': [], 'dni_cliente': ['431653...   \n",
       "4    {'nombre_cliente': [], 'dni_cliente': ['137141...   \n",
       "..                                                 ...   \n",
       "909  {'nombre_cliente': [], 'dni_cliente': ['267273...   \n",
       "910  {'nombre_cliente': [], 'dni_cliente': ['209801...   \n",
       "911  {'nombre_cliente': [], 'dni_cliente': ['269342...   \n",
       "912  {'nombre_cliente': [], 'dni_cliente': ['190202...   \n",
       "913  {'nombre_cliente': [], 'dni_cliente': ['324337...   \n",
       "\n",
       "                                            resultados  \n",
       "0    {'nombre_cliente': 'Conrado Daniel Iglesias', ...  \n",
       "1    {'nombre_cliente': 'BENEDICTA GALLEGOS AGUILAR...  \n",
       "2    {'nombre_cliente': 'Belinda Zetina Mijares', '...  \n",
       "3    {'nombre_cliente': 'PANTALEÓN VELASCO DE ALBA'...  \n",
       "4    {'nombre_cliente': 'SATURNINO MALTÉS NARANJO',...  \n",
       "..                                                 ...  \n",
       "909  {'nombre_cliente': 'PETRONIO RAMÍREZ COLLADO',...  \n",
       "910  {'nombre_cliente': 'SULPICIO ESCOVAR FONSECA',...  \n",
       "911  {'nombre_cliente': 'Petrona Uribe Naranjo', 'd...  \n",
       "912  {'nombre_cliente': 'CELESTINA TREMINIO VALLEJO...  \n",
       "913  {'nombre_cliente': 'KIRA GAITÁN QUESADA', 'dni...  \n",
       "\n",
       "[914 rows x 7 columns]"
      ]
     },
     "execution_count": 7,
     "metadata": {},
     "output_type": "execute_result"
    }
   ],
   "source": [
    "df"
   ]
  },
  {
   "cell_type": "code",
   "execution_count": 8,
   "id": "5351a029-b127-4914-8c47-ba9865336732",
   "metadata": {},
   "outputs": [
    {
     "data": {
      "text/plain": [
       "{'nombre_cliente': 'Ingmar Martínez Calles',\n",
       " 'dni_cliente': '65080903B',\n",
       " 'calle_cliente': 'Calle Yanusari Kwataba',\n",
       " 'cp_cliente': '01208',\n",
       " 'población_cliente': 'Barrundia',\n",
       " 'provincia_cliente': 'Álava',\n",
       " 'nombre_comercializadora': 'VIRGIN ELECTRIC SLU',\n",
       " 'cif_comercializadora': 'B37547619',\n",
       " 'dirección_comercializadora': 'C/ SEGUNDA, 4',\n",
       " 'cp_comercializadora': '37188',\n",
       " 'población_comercializadora': 'Arapiles',\n",
       " 'provincia_comercializadora': 'Salamanca',\n",
       " 'número_factura': 'Z2804917687',\n",
       " 'inicio_periodo': '13.08.2001',\n",
       " 'fin_periodo': '12.10.2001',\n",
       " 'importe_factura': '247,91',\n",
       " 'fecha_cargo': '14.10.2001',\n",
       " 'consumo_periodo': 956,\n",
       " 'potencia_contratada': '4,723'}"
      ]
     },
     "execution_count": 8,
     "metadata": {},
     "output_type": "execute_result"
    }
   ],
   "source": [
    "df['resultados'][900]"
   ]
  },
  {
   "cell_type": "code",
   "execution_count": 9,
   "id": "0667f066-ef24-4488-b9e3-ec7adef7add2",
   "metadata": {},
   "outputs": [
    {
     "data": {
      "text/plain": [
       "{'nombre_cliente': 'Ingmar Martínez Calles',\n",
       " 'dni_cliente': '65080903B',\n",
       " 'calle_cliente': 'Calle Yanusari Kwataba',\n",
       " 'cp_cliente': '01208',\n",
       " 'población_cliente': 'Barrundia',\n",
       " 'provincia_cliente': 'Araba/Álava',\n",
       " 'nombre_comercializadora': 'VIRGIN ELECTRIC SLU',\n",
       " 'cif_comercializadora': 'B37547619',\n",
       " 'dirección_comercializadora': 'C/ SEGUNDA, Nº 4',\n",
       " 'cp_comercializadora': '37188',\n",
       " 'población_comercializadora': 'CARBAJOSA DE LA SAGRADA',\n",
       " 'provincia_comercializadora': 'Salamanca',\n",
       " 'número_factura': 'Z2804917687',\n",
       " 'inicio_periodo': '13.08.2001',\n",
       " 'fin_periodo': '12.10.2001',\n",
       " 'importe_factura': '247,91',\n",
       " 'fecha_cargo': '17.10.2001',\n",
       " 'consumo_periodo': 956,\n",
       " 'potencia_contratada': '4,723'}"
      ]
     },
     "execution_count": 9,
     "metadata": {},
     "output_type": "execute_result"
    }
   ],
   "source": [
    "df['json'][900]"
   ]
  },
  {
   "cell_type": "code",
   "execution_count": null,
   "id": "2602595e-a8ac-4da8-90c8-64c6b8ba2dd1",
   "metadata": {},
   "outputs": [],
   "source": []
  },
  {
   "cell_type": "markdown",
   "id": "793bc95a-aa77-4a05-bb2b-8cdad63a7ce5",
   "metadata": {},
   "source": [
    "Finalmente, comparamos los resultados con el json original."
   ]
  },
  {
   "cell_type": "code",
   "execution_count": 10,
   "id": "5662dc8d-f25b-46f7-bb0f-fc8349cb6629",
   "metadata": {},
   "outputs": [],
   "source": [
    "def calcular_porcentaje_promedio_coincidencia(df):\n",
    "    coincidencias_totales = {}\n",
    "    total_filas = len(df)\n",
    "    \n",
    "    # Iterar sobre cada fila del DataFrame\n",
    "    for index, row in df.iterrows():\n",
    "        json_original = row['json']\n",
    "        json_transformado = row['resultados']\n",
    "        \n",
    "        # Comparar cada entrada de los diccionarios json y json_2\n",
    "        for key, value in json_original.items():\n",
    "            if key not in coincidencias_totales:\n",
    "                coincidencias_totales[key] = {'total': 0, 'coincidencias': 0}\n",
    "            \n",
    "            # Si la clave está en ambos diccionarios y los valores coinciden, sumar 1 a las coincidencias totales\n",
    "            coincidencias_totales[key]['total'] += 1\n",
    "            if key in json_transformado and json_transformado[key] == value:\n",
    "                coincidencias_totales[key]['coincidencias'] += 1\n",
    "    \n",
    "    # Calcular el porcentaje promedio de coincidencia para cada clave\n",
    "    for key, values in coincidencias_totales.items():\n",
    "        coincidencias_totales[key] = (values['coincidencias'] / values['total']) * 100 if values['total'] != 0 else 0\n",
    "    \n",
    "    return coincidencias_totales\n",
    "\n",
    "# Uso de la función para calcular el porcentaje promedio de coincidencia entre json y json_2\n",
    "porcentaje_promedio_coincidencia = calcular_porcentaje_promedio_coincidencia(df)\n"
   ]
  },
  {
   "cell_type": "code",
   "execution_count": 11,
   "id": "a83e3989-670d-4dea-b117-0617667a4f82",
   "metadata": {},
   "outputs": [
    {
     "data": {
      "text/plain": [
       "{'nombre_cliente': 98.24945295404814,\n",
       " 'dni_cliente': 98.57768052516411,\n",
       " 'calle_cliente': 95.84245076586433,\n",
       " 'cp_cliente': 99.45295404814004,\n",
       " 'población_cliente': 95.40481400437638,\n",
       " 'provincia_cliente': 94.20131291028446,\n",
       " 'nombre_comercializadora': 75.38293216630197,\n",
       " 'cif_comercializadora': 97.15536105032822,\n",
       " 'dirección_comercializadora': 54.70459518599562,\n",
       " 'cp_comercializadora': 99.78118161925602,\n",
       " 'población_comercializadora': 62.691466083150985,\n",
       " 'provincia_comercializadora': 81.50984682713349,\n",
       " 'número_factura': 99.56236323851203,\n",
       " 'inicio_periodo': 100.0,\n",
       " 'fin_periodo': 100.0,\n",
       " 'importe_factura': 94.42013129102844,\n",
       " 'fecha_cargo': 75.054704595186,\n",
       " 'consumo_periodo': 99.78118161925602,\n",
       " 'potencia_contratada': 80.19693654266959}"
      ]
     },
     "execution_count": 11,
     "metadata": {},
     "output_type": "execute_result"
    }
   ],
   "source": [
    "calcular_porcentaje_promedio_coincidencia(df)"
   ]
  },
  {
   "cell_type": "code",
   "execution_count": null,
   "id": "1fbb38b8-dc3d-4410-befa-cb178fca24f0",
   "metadata": {},
   "outputs": [],
   "source": []
  },
  {
   "cell_type": "code",
   "execution_count": 12,
   "id": "286c5458-aeae-460a-91a5-f4c3b62df7f6",
   "metadata": {},
   "outputs": [],
   "source": [
    "df_resultados = df[['id', 'resultados']]"
   ]
  },
  {
   "cell_type": "code",
   "execution_count": 13,
   "id": "80906b8b-5a46-4e0d-8724-1467109e56e6",
   "metadata": {},
   "outputs": [
    {
     "name": "stdout",
     "output_type": "stream",
     "text": [
      "El dataset se ha guardado en Data/resultados_finales.csv\n"
     ]
    }
   ],
   "source": [
    "#Ruta para guardar el archivo CSV\n",
    "csv_path = \"Data/resultados_finales.csv\"\n",
    "\n",
    "# Guardar el DataFrame como un archivo CSV\n",
    "df_resultados.to_csv(csv_path, index=False)#\n",
    "\n",
    "print(f\"El dataset se ha guardado en {csv_path}\")"
   ]
  },
  {
   "cell_type": "code",
   "execution_count": 16,
   "id": "b6eea358-7797-434b-9e98-77771b3e4602",
   "metadata": {},
   "outputs": [
    {
     "name": "stdout",
     "output_type": "stream",
     "text": [
      "Archivos JSON creados exitosamente.\n"
     ]
    }
   ],
   "source": [
    "# Crear la carpeta 'resultados' si no existe\n",
    "os.makedirs('resultados', exist_ok=True)\n",
    "\n",
    "# Iterar sobre cada fila del DataFrame\n",
    "for index, row in df_resultados.iterrows():\n",
    "    # Extraer el id y resultados de la fila actual\n",
    "    file_id = row['id']\n",
    "    resultados = row['resultados']\n",
    "    \n",
    "    # Crear el nombre del archivo JSON\n",
    "    filename = f'resultados/{file_id}.json'\n",
    "    \n",
    "    # Guardar los resultados en el archivo JSON\n",
    "    with open(filename, 'w', encoding='utf-8') as file:\n",
    "        json.dump(resultados, file, ensure_ascii=False, indent=4)\n",
    "\n",
    "print(\"Archivos JSON creados exitosamente.\")"
   ]
  },
  {
   "cell_type": "code",
   "execution_count": null,
   "id": "7fe7690a-ec5c-4bf5-92cb-f6d9c55fc834",
   "metadata": {},
   "outputs": [],
   "source": []
  }
 ],
 "metadata": {
  "kernelspec": {
   "display_name": "Python 3 (ipykernel)",
   "language": "python",
   "name": "python3"
  },
  "language_info": {
   "codemirror_mode": {
    "name": "ipython",
    "version": 3
   },
   "file_extension": ".py",
   "mimetype": "text/x-python",
   "name": "python",
   "nbconvert_exporter": "python",
   "pygments_lexer": "ipython3",
   "version": "3.11.7"
  }
 },
 "nbformat": 4,
 "nbformat_minor": 5
}
