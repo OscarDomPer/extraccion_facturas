{
 "cells": [
  {
   "cell_type": "markdown",
   "id": "c4f0fae1-2e46-414e-9656-a0f304e7154a",
   "metadata": {
    "tags": []
   },
   "source": [
    "## Extracción del texto\n",
    "\n"
   ]
  },
  {
   "cell_type": "markdown",
   "id": "5850093b-c677-420c-8b4c-2395b872dc19",
   "metadata": {},
   "source": [
    "Para la extracción del texto se usa la librería PyMuPDF, que destaca por la buena calidad de su documentación."
   ]
  },
  {
   "cell_type": "code",
   "execution_count": null,
   "id": "34e9f9a2-bf2a-433d-9a1c-f7096c45938c",
   "metadata": {},
   "outputs": [],
   "source": [
    "#pip install pymupdf\n"
   ]
  },
  {
   "cell_type": "code",
   "execution_count": 1,
   "id": "96511b7c-0f2c-4fba-a105-290c4f5720d4",
   "metadata": {},
   "outputs": [],
   "source": [
    "import os\n",
    "import fitz"
   ]
  },
  {
   "cell_type": "code",
   "execution_count": 2,
   "id": "c4304666-f55c-4a26-abff-975bfddc18fc",
   "metadata": {
    "tags": []
   },
   "outputs": [],
   "source": [
    "# Directorio de entrada y salida\n",
    "input_directory = \"Data/training\"\n",
    "output_directory_plano =\"Data/training_texto\"\n",
    "\n",
    "# Crear directorio de salida si no existe\n",
    "os.makedirs(output_directory_plano, exist_ok=True)\n",
    "\n",
    "def extraer_texto(pdf_path):\n",
    "    texto = \"\"\n",
    "    with fitz.open(pdf_path) as pdf:\n",
    "        for page_num in range(len(pdf)):\n",
    "            texto += pdf[page_num].get_text()\n",
    "    return texto\n",
    "\n",
    "# Recorrer los archivos PDF en el directorio de entrada\n",
    "for filename in os.listdir(input_directory):\n",
    "    if filename.endswith(\".pdf\"):\n",
    "        pdf_path = os.path.join(input_directory, filename)\n",
    "        # Extraer texto del PDF\n",
    "        texto_extraido = extraer_texto(pdf_path)\n",
    "        # Guardar texto en formato plano\n",
    "        with open(os.path.join(output_directory_plano, filename + \".txt\"), \"w\", encoding=\"utf-8\") as f:\n",
    "            f.write(texto_extraido)"
   ]
  },
  {
   "cell_type": "code",
   "execution_count": null,
   "id": "c8cfd387-88bc-4773-8695-489cae224cb3",
   "metadata": {},
   "outputs": [],
   "source": []
  },
  {
   "cell_type": "code",
   "execution_count": null,
   "id": "e87503b1-e2f0-48b2-a145-b6c1205be0a9",
   "metadata": {},
   "outputs": [],
   "source": []
  },
  {
   "cell_type": "code",
   "execution_count": null,
   "id": "cc10354d-8e43-44b2-9c99-00304471a6ed",
   "metadata": {},
   "outputs": [],
   "source": []
  },
  {
   "cell_type": "code",
   "execution_count": null,
   "id": "7280fddb-37a5-4464-896f-d3082324717f",
   "metadata": {},
   "outputs": [],
   "source": []
  },
  {
   "cell_type": "code",
   "execution_count": null,
   "id": "f6448834-3b04-4fb7-924e-13dcffc967c1",
   "metadata": {},
   "outputs": [],
   "source": []
  },
  {
   "cell_type": "code",
   "execution_count": null,
   "id": "be4be2b5-c16b-4f95-b634-e612c67ca67f",
   "metadata": {},
   "outputs": [],
   "source": []
  },
  {
   "cell_type": "code",
   "execution_count": null,
   "id": "97c43e4b-2616-4ab4-ae14-56bfdef9a133",
   "metadata": {},
   "outputs": [],
   "source": []
  },
  {
   "cell_type": "code",
   "execution_count": null,
   "id": "4d98826f-d6dd-4077-b2f6-df07550071d9",
   "metadata": {},
   "outputs": [],
   "source": []
  },
  {
   "cell_type": "code",
   "execution_count": null,
   "id": "98b40ee6-3e1e-42d1-894a-6a91f1e4f1b8",
   "metadata": {},
   "outputs": [],
   "source": []
  },
  {
   "cell_type": "code",
   "execution_count": null,
   "id": "24ebe462-1a08-401a-9aaa-69ad3128288f",
   "metadata": {},
   "outputs": [],
   "source": []
  }
 ],
 "metadata": {
  "kernelspec": {
   "display_name": "Python 3 (ipykernel)",
   "language": "python",
   "name": "python3"
  },
  "language_info": {
   "codemirror_mode": {
    "name": "ipython",
    "version": 3
   },
   "file_extension": ".py",
   "mimetype": "text/x-python",
   "name": "python",
   "nbconvert_exporter": "python",
   "pygments_lexer": "ipython3",
   "version": "3.11.7"
  }
 },
 "nbformat": 4,
 "nbformat_minor": 5
}
